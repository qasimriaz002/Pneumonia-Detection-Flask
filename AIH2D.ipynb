{
  "nbformat": 4,
  "nbformat_minor": 0,
  "metadata": {
    "colab": {
      "provenance": [],
      "gpuType": "T4",
      "mount_file_id": "138p1oGPHqUa4lg1cxfkf9lYBY7mAACab",
      "authorship_tag": "ABX9TyMcy7Qjzbwy1qhaZE5L66ZL",
      "include_colab_link": true
    },
    "kernelspec": {
      "name": "python3",
      "display_name": "Python 3"
    },
    "language_info": {
      "name": "python"
    },
    "accelerator": "GPU"
  },
  "cells": [
    {
      "cell_type": "markdown",
      "metadata": {
        "id": "view-in-github",
        "colab_type": "text"
      },
      "source": [
        "<a href=\"https://colab.research.google.com/github/qasimriaz002/Pneumonia-Detection-Flask/blob/main/AIH2D.ipynb\" target=\"_parent\"><img src=\"https://colab.research.google.com/assets/colab-badge.svg\" alt=\"Open In Colab\"/></a>"
      ]
    },
    {
      "cell_type": "code",
      "execution_count": 1,
      "metadata": {
        "id": "BdURIFpaZ6Gq"
      },
      "outputs": [],
      "source": [
        "import os\n",
        "import numpy as np\n",
        "import pandas as pd\n",
        "import tensorflow as tf\n",
        "from tensorflow.keras.preprocessing.image import ImageDataGenerator\n",
        "from tensorflow.keras.models import Sequential\n",
        "from tensorflow.keras.layers import Conv2D, MaxPooling2D, Flatten, Dense, Dropout\n",
        "import pickle\n",
        "\n",
        "from flask import Flask, request, render_template\n",
        "from werkzeug.utils import secure_filename"
      ]
    },
    {
      "cell_type": "code",
      "source": [
        "# Define dataset paths\n",
        "train_path = \"/content/drive/MyDrive/AIH2D/data/train\"\n",
        "test_path = \"/content/drive/MyDrive/AIH2D/data/test\""
      ],
      "metadata": {
        "id": "s1zQ_uixbgiB"
      },
      "execution_count": 2,
      "outputs": []
    },
    {
      "cell_type": "code",
      "source": [
        "print(train_path)\n",
        "print(test_path)"
      ],
      "metadata": {
        "colab": {
          "base_uri": "https://localhost:8080/"
        },
        "id": "XcpJClZgbjEO",
        "outputId": "85a5eb95-0715-449b-eeb1-a6ae3bf10755"
      },
      "execution_count": 3,
      "outputs": [
        {
          "output_type": "stream",
          "name": "stdout",
          "text": [
            "/content/drive/MyDrive/AIH2D/data/train\n",
            "/content/drive/MyDrive/AIH2D/data/test\n"
          ]
        }
      ]
    },
    {
      "cell_type": "code",
      "source": [
        "# Data augmentation\n",
        "train_datagen = ImageDataGenerator(rescale=1./255,\n",
        "                                   shear_range=0.2,\n",
        "                                   zoom_range=0.2,\n",
        "                                   horizontal_flip=True)\n",
        "\n",
        "test_datagen = ImageDataGenerator(rescale=1./255)"
      ],
      "metadata": {
        "id": "DMjk2mRUbzlQ"
      },
      "execution_count": 4,
      "outputs": []
    },
    {
      "cell_type": "code",
      "source": [
        "# Load and preprocess the training data\n",
        "train_set = train_datagen.flow_from_directory(train_path,\n",
        "                                              target_size=(64, 64),\n",
        "                                              batch_size=32,\n",
        "                                              class_mode='binary')"
      ],
      "metadata": {
        "colab": {
          "base_uri": "https://localhost:8080/"
        },
        "id": "cvEWxUoKb1xV",
        "outputId": "9dd0553d-afbf-4856-948b-f3026c99c75a"
      },
      "execution_count": 5,
      "outputs": [
        {
          "output_type": "stream",
          "name": "stdout",
          "text": [
            "Found 5233 images belonging to 2 classes.\n"
          ]
        }
      ]
    },
    {
      "cell_type": "code",
      "source": [
        "# Load and preprocess the test data\n",
        "test_set = test_datagen.flow_from_directory(test_path,\n",
        "                                            target_size=(64, 64),\n",
        "                                            batch_size=32,\n",
        "                                            class_mode='binary')"
      ],
      "metadata": {
        "colab": {
          "base_uri": "https://localhost:8080/"
        },
        "id": "ZpiAoeQCb8Hq",
        "outputId": "761ae2fb-a687-4f22-b25e-61fc386335f7"
      },
      "execution_count": 6,
      "outputs": [
        {
          "output_type": "stream",
          "name": "stdout",
          "text": [
            "Found 624 images belonging to 2 classes.\n"
          ]
        }
      ]
    },
    {
      "cell_type": "code",
      "source": [
        "model = Sequential()\n",
        "\n",
        "model.add(Conv2D(32, (3, 3), input_shape=(64, 64, 3), activation='relu'))\n",
        "model.add(MaxPooling2D(pool_size=(2, 2)))\n",
        "\n",
        "model.add(Conv2D(64, (3, 3), activation='relu'))\n",
        "model.add(MaxPooling2D(pool_size=(2, 2)))\n",
        "\n",
        "model.add(Conv2D(128, (3, 3), activation='relu'))\n",
        "model.add(MaxPooling2D(pool_size=(2, 2)))\n",
        "\n",
        "model.add(Flatten())\n",
        "model.add(Dense(128, activation='relu'))\n",
        "model.add(Dropout(0.5))\n",
        "model.add(Dense(1, activation='sigmoid'))\n",
        "\n",
        "model.compile(optimizer='adam', loss='binary_crossentropy', metrics=['accuracy'])"
      ],
      "metadata": {
        "id": "GYocJt6Tb9b1"
      },
      "execution_count": 7,
      "outputs": []
    },
    {
      "cell_type": "code",
      "source": [
        "model.fit(train_set, epochs=10, validation_data=test_set)"
      ],
      "metadata": {
        "colab": {
          "base_uri": "https://localhost:8080/"
        },
        "id": "kS1Uv-H9cD6D",
        "outputId": "58667b65-e06f-4a48-e874-7ee05c4ef4d1"
      },
      "execution_count": 8,
      "outputs": [
        {
          "output_type": "stream",
          "name": "stdout",
          "text": [
            "Epoch 1/10\n",
            "164/164 [==============================] - 1750s 11s/step - loss: 0.4313 - accuracy: 0.8078 - val_loss: 0.4200 - val_accuracy: 0.8061\n",
            "Epoch 2/10\n",
            "164/164 [==============================] - 69s 420ms/step - loss: 0.2647 - accuracy: 0.8959 - val_loss: 0.3094 - val_accuracy: 0.8814\n",
            "Epoch 3/10\n",
            "164/164 [==============================] - 68s 415ms/step - loss: 0.2182 - accuracy: 0.9138 - val_loss: 0.3176 - val_accuracy: 0.8702\n",
            "Epoch 4/10\n",
            "164/164 [==============================] - 65s 394ms/step - loss: 0.1888 - accuracy: 0.9291 - val_loss: 0.3185 - val_accuracy: 0.8814\n",
            "Epoch 5/10\n",
            "164/164 [==============================] - 64s 393ms/step - loss: 0.1652 - accuracy: 0.9367 - val_loss: 0.5100 - val_accuracy: 0.8397\n",
            "Epoch 6/10\n",
            "164/164 [==============================] - 65s 396ms/step - loss: 0.1537 - accuracy: 0.9404 - val_loss: 0.3213 - val_accuracy: 0.8670\n",
            "Epoch 7/10\n",
            "164/164 [==============================] - 64s 392ms/step - loss: 0.1583 - accuracy: 0.9410 - val_loss: 0.4019 - val_accuracy: 0.8734\n",
            "Epoch 8/10\n",
            "164/164 [==============================] - 65s 394ms/step - loss: 0.1480 - accuracy: 0.9469 - val_loss: 0.3655 - val_accuracy: 0.8718\n",
            "Epoch 9/10\n",
            "164/164 [==============================] - 64s 393ms/step - loss: 0.1393 - accuracy: 0.9459 - val_loss: 0.3250 - val_accuracy: 0.9006\n",
            "Epoch 10/10\n",
            "164/164 [==============================] - 65s 397ms/step - loss: 0.1390 - accuracy: 0.9501 - val_loss: 0.3391 - val_accuracy: 0.8878\n"
          ]
        },
        {
          "output_type": "execute_result",
          "data": {
            "text/plain": [
              "<keras.src.callbacks.History at 0x79970f959900>"
            ]
          },
          "metadata": {},
          "execution_count": 8
        }
      ]
    },
    {
      "cell_type": "code",
      "source": [
        "# Evaluate the model\n",
        "score = model.evaluate(test_set)\n",
        "print(\"Test Loss:\", score[0])\n",
        "print(\"Test Accuracy:\", score[1])"
      ],
      "metadata": {
        "colab": {
          "base_uri": "https://localhost:8080/"
        },
        "id": "Ld--_qd0cGba",
        "outputId": "f46ffd1c-bc16-4674-c18d-8c1eaeccd7cb"
      },
      "execution_count": 9,
      "outputs": [
        {
          "output_type": "stream",
          "name": "stdout",
          "text": [
            "20/20 [==============================] - 5s 265ms/step - loss: 0.3391 - accuracy: 0.8878\n",
            "Test Loss: 0.33908069133758545\n",
            "Test Accuracy: 0.8878205418586731\n"
          ]
        }
      ]
    },
    {
      "cell_type": "code",
      "source": [
        "from sklearn.metrics import classification_report"
      ],
      "metadata": {
        "id": "Qw5f6fdqcKDW"
      },
      "execution_count": 10,
      "outputs": []
    },
    {
      "cell_type": "code",
      "source": [
        "# Evaluate the model\n",
        "y_true = test_set.classes\n",
        "y_pred_prob = model.predict(test_set)\n",
        "y_pred = (y_pred_prob > 0.5).astype(int)"
      ],
      "metadata": {
        "colab": {
          "base_uri": "https://localhost:8080/"
        },
        "id": "thkz9gKXm2xD",
        "outputId": "1ac0873d-77e2-455b-c408-e1b9e67ab380"
      },
      "execution_count": 12,
      "outputs": [
        {
          "output_type": "stream",
          "name": "stdout",
          "text": [
            "20/20 [==============================] - 7s 316ms/step\n"
          ]
        }
      ]
    },
    {
      "cell_type": "code",
      "source": [
        "# Print classification report\n",
        "print(\"Classification Report:\")\n",
        "print(classification_report(y_true, y_pred, target_names=['Normal', 'Pneumonia']))\n"
      ],
      "metadata": {
        "colab": {
          "base_uri": "https://localhost:8080/"
        },
        "id": "1XaQy1IucMxu",
        "outputId": "991118dd-fa7d-4a67-f63b-3527626e79ce"
      },
      "execution_count": 13,
      "outputs": [
        {
          "output_type": "stream",
          "name": "stdout",
          "text": [
            "Classification Report:\n",
            "              precision    recall  f1-score   support\n",
            "\n",
            "      Normal       0.38      0.30      0.33       234\n",
            "   Pneumonia       0.63      0.70      0.66       390\n",
            "\n",
            "    accuracy                           0.55       624\n",
            "   macro avg       0.50      0.50      0.50       624\n",
            "weighted avg       0.53      0.55      0.54       624\n",
            "\n"
          ]
        }
      ]
    },
    {
      "cell_type": "code",
      "source": [
        "# Save the model to a file\n",
        "model.save('pneumonia_model.h5')\n",
        "\n",
        "# Save the model's training history\n",
        "with open('history.pickle', 'wb') as file:\n",
        "    pickle.dump(model.history.history, file)"
      ],
      "metadata": {
        "colab": {
          "base_uri": "https://localhost:8080/"
        },
        "id": "B9sWbhnfcRJ1",
        "outputId": "afd99cca-9d26-48db-fcb2-980a404b7970"
      },
      "execution_count": 14,
      "outputs": [
        {
          "output_type": "stream",
          "name": "stderr",
          "text": [
            "/usr/local/lib/python3.10/dist-packages/keras/src/engine/training.py:3079: UserWarning: You are saving your model as an HDF5 file via `model.save()`. This file format is considered legacy. We recommend using instead the native Keras format, e.g. `model.save('my_model.keras')`.\n",
            "  saving_api.save_model(\n"
          ]
        }
      ]
    },
    {
      "cell_type": "code",
      "source": [
        "import joblib\n",
        "\n",
        "from tensorflow.keras.models import load_model\n",
        "\n",
        "# Load the trained model\n",
        "model = load_model('pneumonia_model.h5')\n",
        "\n",
        "# Save the model as a pickle file\n",
        "joblib.dump(model, 'pneumonia_model.pkl')"
      ],
      "metadata": {
        "colab": {
          "base_uri": "https://localhost:8080/"
        },
        "id": "WgNAf4gmnDli",
        "outputId": "fa33f7ab-033e-425b-8739-31356c10796d"
      },
      "execution_count": 17,
      "outputs": [
        {
          "output_type": "execute_result",
          "data": {
            "text/plain": [
              "['pneumonia_model.pkl']"
            ]
          },
          "metadata": {},
          "execution_count": 17
        }
      ]
    },
    {
      "cell_type": "code",
      "source": [
        "\n",
        "from flask import Flask, render_template, request\n",
        "from tensorflow.keras.models import load_model\n",
        "from tensorflow.keras.preprocessing import image\n",
        "import numpy as np"
      ],
      "metadata": {
        "id": "qteSQsUin559"
      },
      "execution_count": 18,
      "outputs": []
    },
    {
      "cell_type": "code",
      "source": [
        "# Load the trained model\n",
        "model = load_model('pneumonia_model.h5')"
      ],
      "metadata": {
        "id": "P7hZUHFXoW_W"
      },
      "execution_count": 25,
      "outputs": []
    },
    {
      "cell_type": "code",
      "source": [
        "app = Flask(__name__)"
      ],
      "metadata": {
        "id": "GK1a-suNohLl"
      },
      "execution_count": 26,
      "outputs": []
    },
    {
      "cell_type": "code",
      "source": [
        "# Render the home page\n",
        "@app.route('/')\n",
        "def home():\n",
        "    return render_template('index.html')\n"
      ],
      "metadata": {
        "id": "46f_0AdPoaZq"
      },
      "execution_count": 27,
      "outputs": []
    },
    {
      "cell_type": "code",
      "source": [
        "# Handle the prediction\n",
        "@app.route('/predict', methods=['POST'])\n",
        "def predict():\n",
        "    if request.method == 'POST':\n",
        "        # Get the uploaded image file\n",
        "        file = request.files['file']\n",
        "        # Save the uploaded file\n",
        "        file_path = 'static/' + secure_filename(file.filename)\n",
        "        file.save(file_path)\n",
        "\n",
        "        # Preprocess the image\n",
        "        img = image.load_img(file_path, target_size=(64, 64))\n",
        "        img = image.img_to_array(img)\n",
        "        img = np.expand_dims(img, axis=0)\n",
        "        img /= 255.0\n",
        "\n",
        "        # Make predictions\n",
        "        prediction = model.predict(img)\n",
        "        result = \"Pneumonia\" if prediction > 0.5 else \"Normal\"\n",
        "\n",
        "        return render_template('index.html', result=result, img_path=file_path)\n"
      ],
      "metadata": {
        "id": "rNmyJoYdocYG"
      },
      "execution_count": 28,
      "outputs": []
    },
    {
      "cell_type": "code",
      "source": [
        "if __name__ == '__main__':\n",
        "    app.run(debug=True)"
      ],
      "metadata": {
        "colab": {
          "base_uri": "https://localhost:8080/"
        },
        "id": "dFyUreiIonw5",
        "outputId": "bf0510cb-e265-4b69-9611-c90a3539e37c"
      },
      "execution_count": 32,
      "outputs": [
        {
          "output_type": "stream",
          "name": "stdout",
          "text": [
            " * Serving Flask app '__main__'\n",
            " * Debug mode: on\n"
          ]
        },
        {
          "output_type": "stream",
          "name": "stderr",
          "text": [
            "INFO:werkzeug:\u001b[31m\u001b[1mWARNING: This is a development server. Do not use it in a production deployment. Use a production WSGI server instead.\u001b[0m\n",
            " * Running on http://127.0.0.1:5000\n",
            "INFO:werkzeug:\u001b[33mPress CTRL+C to quit\u001b[0m\n",
            "INFO:werkzeug: * Restarting with stat\n"
          ]
        }
      ]
    },
    {
      "cell_type": "code",
      "source": [
        "from google.colab import output\n",
        "output.serve_kernel_port_as_window(5000)"
      ],
      "metadata": {
        "colab": {
          "base_uri": "https://localhost:8080/",
          "height": 34
        },
        "id": "EbiLldIGp2RA",
        "outputId": "84ce2b3a-63c3-44d7-9e7d-470276adeb47"
      },
      "execution_count": 31,
      "outputs": [
        {
          "output_type": "display_data",
          "data": {
            "text/plain": [
              "<IPython.core.display.Javascript object>"
            ],
            "application/javascript": [
              "(async (port, path, text, element) => {\n",
              "    if (!google.colab.kernel.accessAllowed) {\n",
              "      return;\n",
              "    }\n",
              "    element.appendChild(document.createTextNode(''));\n",
              "    const url = await google.colab.kernel.proxyPort(port);\n",
              "    const anchor = document.createElement('a');\n",
              "    anchor.href = new URL(path, url).toString();\n",
              "    anchor.target = '_blank';\n",
              "    anchor.setAttribute('data-href', url + path);\n",
              "    anchor.textContent = text;\n",
              "    element.appendChild(anchor);\n",
              "  })(5000, \"/\", \"https://localhost:5000/\", window.element)"
            ]
          },
          "metadata": {}
        }
      ]
    },
    {
      "cell_type": "code",
      "source": [],
      "metadata": {
        "id": "F_Di2GwFp484"
      },
      "execution_count": null,
      "outputs": []
    }
  ]
}